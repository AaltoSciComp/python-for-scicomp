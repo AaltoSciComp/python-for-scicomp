{
 "cells": [
  {
   "cell_type": "markdown",
   "metadata": {},
   "source": [
    "Jupyter\n",
    "=======\n",
    "\n",
    "```{questions}\n",
    "\n",
    "   - What is the purpose of a \"Computational narrative\"?\n",
    "   - What role does Jupyter play in development?\n",
    "```\n",
    "\n",
    "```{objectives}\n",
    "\n",
    "   - Be able to use Jupyter to run examples for the rest of the course.\n",
    "   - Be able to run Jupyter in a directory do your own work.\n",
    "   - You won't be a Jupyter expert after this, but should be able to do the rest of the course.\n",
    "```\n"
   ]
  },
  {
   "cell_type": "markdown",
   "metadata": {},
   "source": [
    "What is Jupyter?\n",
    "----------------\n",
    "\n",
    "Jupyter is a web-based interactive computing system.  It is most well known for having the *notebook file format* and Jupyter Notebook / Jupyter Lab.  A notebook format contains both the input and the output of the code along documentation, all interleaved to create what is called a *computational narrative*.\n",
    "\n",
    "\n",
    "Jupyter is good for \n"
   ]
  },
  {
   "cell_type": "markdown",
   "metadata": {},
   "source": [
    "Getting started with Jupyter\n",
    "----------------------------\n",
    "* Start JupyterLab: there are different ways.  From the command line, activate your anaconda environment and run `jupyter-lab`.  You can also start in from Anaconda Navigator.\n",
    "\n",
    "For practical purposes, JupyterLab is an integrated development environment that combines file browsing, notebooks, and code editing."
   ]
  },
  {
   "cell_type": "markdown",
   "metadata": {},
   "source": []
  },
  {
   "cell_type": "code",
   "execution_count": null,
   "metadata": {},
   "outputs": [],
   "source": []
  },
  {
   "cell_type": "markdown",
   "metadata": {},
   "source": [
    "```{challenge}\n",
    "\n",
    "   1. Start Jupyter.\n",
    "\n",
    "   2. Create a notebook file.\n",
    "\n",
    "   3. What directory does Jupyter show you.  How can you access\n",
    "      files in other directories?\n",
    "\n",
    "   4. (advanced, optional) Look at the notebook file in a text\n",
    "      editor.  How does it work?\n",
    "\n",
    "   If everything works for you, this will end very quickly.  Begin\n",
    "   reading the next sections independently.\n",
    "```"
   ]
  },
  {
   "cell_type": "markdown",
   "metadata": {},
   "source": [
    "Running code in Jupyter\n",
    "-----------------------"
   ]
  },
  {
   "cell_type": "markdown",
   "metadata": {},
   "source": [
    "```{challenge}\n",
    "\n",
    "   1. Run some trivial code, such as ``print(1)``.\n",
    "\n",
    "   2. Run some slightly less trivial code, like print out the first\n",
    "      ten `Fibonacci numbers <https://en.wikipedia.org/wiki/Fibonacci_number>`__.\n",
    "\n",
    "   3. Make a Markdown cell and give it a title and some description of\n",
    "      your function\n",
    "\n",
    "   4. Use the ``%%timeit`` magic function to time your Fibonacci\n",
    "      function.\n",
    "\n",
    "   5. Again using ``%%timeit``, figure out the fastest way to sum the\n",
    "      numbers 0 to 1000000.\n",
    "```"
   ]
  },
  {
   "cell_type": "markdown",
   "metadata": {},
   "source": [
    "Jupyter pitfalls\n",
    "----------------\n",
    "\n",
    "Jupyter is great for many things, but there are some problems if not used well:\n",
    "\n",
    "- They **don't promote modularity**, and once you get started in a\n",
    "  notebook it can be hard to migrate to modules.\n",
    "- They are **difficult to test**.  There are things to run notebooks as\n",
    "  unit tests like [nbval](https://nbval.readthedocs.io/), but it's not\n",
    "  perfect.\n",
    "- Notebooks can be **version controlled**\n",
    "  ([nbdime](https://nbdime.readthedocs.io/) helps with that), but\n",
    "  there are **still limitations**.\n",
    "- You can **change code after you run it** and run code out of order.\n",
    "  This can make debugging hard and results irreproducible if you\n",
    "  aren't careful.\n",
    "- Notebooks **aren't named by default** and tend to **acquire a bunch of\n",
    "  unrelated stuff**.  Be careful with organization!\n",
    "- Once lots of code is in notebooks, it can be **hard to change to\n",
    "  proper programs that can be scripted**.\n",
    "\n",
    "You can read more about these downsides <https://scicomp.aalto.fi/scicomp/jupyter-pitfalls/>.\n",
    "\n",
    "**But these downsides aren't specific to Jupyter!**  They can easily happen in other sources, too.  By studying these, you can make any code better, and find the right balance for what you do.\n",
    "\n"
   ]
  },
  {
   "cell_type": "markdown",
   "metadata": {},
   "source": [
    "```{challenge}\n",
    "\n",
    "   (optional) Discuss the following in groups:\n",
    "\n",
    "   1. Have any of you used Jupyter in a way that became impossible to\n",
    "      maintain: too many files, code all spread out, not able to find\n",
    "      your code and run it in the right order.  How did you solve that?\n",
    "\n",
    "   2. On the other hand, what are your successes with Jupyter?\n",
    "   \n",
    "   3. How can you prevent these problems by better development strategies?\n",
    "```"
   ]
  },
  {
   "cell_type": "markdown",
   "metadata": {},
   "source": [
    "```{keypoints}\n",
    "\n",
    "   - Jupyter is powerful and can be used for most work, but not the end solution of all problems\n",
    "```"
   ]
  },
  {
   "cell_type": "code",
   "execution_count": null,
   "metadata": {},
   "outputs": [],
   "source": []
  }
 ],
 "metadata": {
  "kernelspec": {
   "display_name": "Python 3",
   "language": "python",
   "name": "python3"
  },
  "language_info": {
   "codemirror_mode": {
    "name": "ipython",
    "version": 3
   },
   "file_extension": ".py",
   "mimetype": "text/x-python",
   "name": "python",
   "nbconvert_exporter": "python",
   "pygments_lexer": "ipython3",
   "version": "3.7.3"
  }
 },
 "nbformat": 4,
 "nbformat_minor": 4
}
