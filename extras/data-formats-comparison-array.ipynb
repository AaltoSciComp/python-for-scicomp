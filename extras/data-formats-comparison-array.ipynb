{
 "cells": [
  {
   "cell_type": "markdown",
   "id": "3e3e7089-df53-45d4-9771-6953bfe75b1f",
   "metadata": {},
   "source": [
    "# Compare file formats - array"
   ]
  },
  {
   "cell_type": "code",
   "execution_count": 1,
   "id": "c798c8b0-fb28-4625-9bfb-8d07aac1f584",
   "metadata": {},
   "outputs": [],
   "source": [
    "import os\n",
    "import numpy as np\n",
    "import pandas as pd\n",
    "\n",
    "n = 1000\n",
    "\n",
    "data_array = np.random.uniform(size=(n,n))"
   ]
  },
  {
   "cell_type": "code",
   "execution_count": 2,
   "id": "1444a908-a345-481e-8a6b-0b8f008a3eab",
   "metadata": {},
   "outputs": [],
   "source": [
    "dataset_comparison = []"
   ]
  },
  {
   "cell_type": "markdown",
   "id": "023e9476-6c9e-4993-9322-d2b6678d6498",
   "metadata": {
    "tags": []
   },
   "source": [
    "## CSV"
   ]
  },
  {
   "cell_type": "markdown",
   "id": "ae472005-3b05-4dce-9120-7ff66690f894",
   "metadata": {},
   "source": [
    "Write speed:"
   ]
  },
  {
   "cell_type": "code",
   "execution_count": 3,
   "id": "f76d2ae0-c425-4dbb-babc-a2e0e3462960",
   "metadata": {},
   "outputs": [
    {
     "name": "stdout",
     "output_type": "stream",
     "text": [
      "690 ms ± 73.2 ms per loop (mean ± std. dev. of 7 runs, 1 loop each)\n"
     ]
    },
    {
     "data": {
      "text/plain": [
       "<TimeitResult : 690 ms ± 73.2 ms per loop (mean ± std. dev. of 7 runs, 1 loop each)>"
      ]
     },
     "execution_count": 3,
     "metadata": {},
     "output_type": "execute_result"
    }
   ],
   "source": [
    "%timeit -o np.savetxt('data_array.txt', data_array)"
   ]
  },
  {
   "cell_type": "code",
   "execution_count": 4,
   "id": "ac49ec72-54b1-4ce5-9278-c49afec9378b",
   "metadata": {},
   "outputs": [],
   "source": [
    "write_speed = 1000 * _.average"
   ]
  },
  {
   "cell_type": "markdown",
   "id": "38ee9665-540c-45d7-9d41-09711e6aceb1",
   "metadata": {},
   "source": [
    "Read speed:"
   ]
  },
  {
   "cell_type": "code",
   "execution_count": 5,
   "id": "56f81131-a5ad-4ab5-854f-37724f823d87",
   "metadata": {},
   "outputs": [
    {
     "name": "stdout",
     "output_type": "stream",
     "text": [
      "294 ms ± 14.2 ms per loop (mean ± std. dev. of 7 runs, 1 loop each)\n"
     ]
    },
    {
     "data": {
      "text/plain": [
       "<TimeitResult : 294 ms ± 14.2 ms per loop (mean ± std. dev. of 7 runs, 1 loop each)>"
      ]
     },
     "execution_count": 5,
     "metadata": {},
     "output_type": "execute_result"
    }
   ],
   "source": [
    "%timeit -o data_array_csv = np.loadtxt('data_array.txt')"
   ]
  },
  {
   "cell_type": "code",
   "execution_count": 6,
   "id": "6c1b90a0-74d9-4f6a-9205-3f7ace0ab51a",
   "metadata": {},
   "outputs": [],
   "source": [
    "read_speed =  1000 * _.average"
   ]
  },
  {
   "cell_type": "markdown",
   "id": "7bea25ee-84dd-49fb-b369-93741ec47b81",
   "metadata": {},
   "source": [
    "Datasets match:"
   ]
  },
  {
   "cell_type": "code",
   "execution_count": 7,
   "id": "937e0383-0490-497c-a0af-f4f23dd8ef96",
   "metadata": {},
   "outputs": [
    {
     "data": {
      "text/plain": [
       "True"
      ]
     },
     "execution_count": 7,
     "metadata": {},
     "output_type": "execute_result"
    }
   ],
   "source": [
    "data_array_csv = np.loadtxt('data_array.txt')\n",
    "data_array_match = np.all(data_array == data_array_csv)\n",
    "data_array_match"
   ]
  },
  {
   "cell_type": "markdown",
   "id": "a03ac5e3-d5af-42bf-8eb9-637a182ec448",
   "metadata": {},
   "source": [
    "Dataset size:"
   ]
  },
  {
   "cell_type": "code",
   "execution_count": 8,
   "id": "b1b70588-01b8-4662-9780-fc34da9da228",
   "metadata": {},
   "outputs": [],
   "source": [
    "data_array_size = os.path.getsize('data_array.txt') / (1024. * 1024.)"
   ]
  },
  {
   "cell_type": "markdown",
   "id": "c6efc981-a4aa-4028-a1b0-60367abfa8b9",
   "metadata": {},
   "source": [
    "Add data to comparison list:"
   ]
  },
  {
   "cell_type": "code",
   "execution_count": 9,
   "id": "7a4ff6b6-aca5-4f96-86e1-46ddc4094e15",
   "metadata": {},
   "outputs": [],
   "source": [
    "dataset_comparison.append(['CSV', data_array_size, write_speed, read_speed, data_array_match])"
   ]
  },
  {
   "cell_type": "markdown",
   "id": "4bfc1d4a-be1e-4a1f-99c4-4d111e535c65",
   "metadata": {
    "tags": []
   },
   "source": [
    "## npy"
   ]
  },
  {
   "cell_type": "markdown",
   "id": "f4688664-99a2-40c1-acb4-56963724a8a8",
   "metadata": {},
   "source": [
    "Write speed:"
   ]
  },
  {
   "cell_type": "code",
   "execution_count": 10,
   "id": "67eb2ccc-9992-44f2-87b0-515058bf992b",
   "metadata": {},
   "outputs": [
    {
     "name": "stdout",
     "output_type": "stream",
     "text": [
      "13.8 ms ± 319 µs per loop (mean ± std. dev. of 7 runs, 100 loops each)\n"
     ]
    },
    {
     "data": {
      "text/plain": [
       "<TimeitResult : 13.8 ms ± 319 µs per loop (mean ± std. dev. of 7 runs, 100 loops each)>"
      ]
     },
     "execution_count": 10,
     "metadata": {},
     "output_type": "execute_result"
    }
   ],
   "source": [
    "%timeit -o np.save('data_array.npy', data_array)"
   ]
  },
  {
   "cell_type": "code",
   "execution_count": 11,
   "id": "8f72fffb-dfeb-448c-8b2b-e781268353d6",
   "metadata": {},
   "outputs": [],
   "source": [
    "write_speed =  1000 * _.average"
   ]
  },
  {
   "cell_type": "markdown",
   "id": "6de1acdb-9267-4681-acee-a29c6cfb7449",
   "metadata": {},
   "source": [
    "Read speed:"
   ]
  },
  {
   "cell_type": "code",
   "execution_count": 12,
   "id": "ce105722-b279-4b1e-bac8-3736b2964cf7",
   "metadata": {},
   "outputs": [
    {
     "name": "stdout",
     "output_type": "stream",
     "text": [
      "2.72 ms ± 80.8 µs per loop (mean ± std. dev. of 7 runs, 100 loops each)\n"
     ]
    },
    {
     "data": {
      "text/plain": [
       "<TimeitResult : 2.72 ms ± 80.8 µs per loop (mean ± std. dev. of 7 runs, 100 loops each)>"
      ]
     },
     "execution_count": 12,
     "metadata": {},
     "output_type": "execute_result"
    }
   ],
   "source": [
    "%timeit -o data_array_npy = np.load('data_array.npy')"
   ]
  },
  {
   "cell_type": "code",
   "execution_count": 13,
   "id": "ae3e4a4a-adc2-4a29-892e-c1c6fe51b67b",
   "metadata": {},
   "outputs": [],
   "source": [
    "read_speed =  1000 * _.average"
   ]
  },
  {
   "cell_type": "markdown",
   "id": "ffe686b1-d556-4b50-b9b7-802d72b07920",
   "metadata": {},
   "source": [
    "Datasets match:"
   ]
  },
  {
   "cell_type": "code",
   "execution_count": 14,
   "id": "93dd6df6-8bed-447f-b8b8-fdcb9f4df115",
   "metadata": {},
   "outputs": [
    {
     "data": {
      "text/plain": [
       "True"
      ]
     },
     "execution_count": 14,
     "metadata": {},
     "output_type": "execute_result"
    }
   ],
   "source": [
    "data_array_npy = np.load('data_array.npy')\n",
    "data_array_match = np.all(data_array == data_array_npy)\n",
    "data_array_match"
   ]
  },
  {
   "cell_type": "markdown",
   "id": "83efd1b7-e435-47b5-b71b-d5a4c4391c1a",
   "metadata": {},
   "source": [
    "Dataset size:"
   ]
  },
  {
   "cell_type": "code",
   "execution_count": 15,
   "id": "e66fbfbd-d713-4ab2-b0a2-a31e4f40db90",
   "metadata": {},
   "outputs": [],
   "source": [
    "data_array_size = os.path.getsize('data_array.npy') / (1024. * 1024.)"
   ]
  },
  {
   "cell_type": "markdown",
   "id": "8869d58b-f257-41b1-a727-2f69be220a8b",
   "metadata": {},
   "source": [
    "Add data to comparison list:"
   ]
  },
  {
   "cell_type": "code",
   "execution_count": 16,
   "id": "c7319e5a-96a6-4fd2-b561-ae144c7dd338",
   "metadata": {
    "jupyter": {
     "source_hidden": true
    },
    "tags": []
   },
   "outputs": [],
   "source": [
    "dataset_comparison.append(['npy', data_array_size, write_speed, read_speed, data_array_match])"
   ]
  },
  {
   "cell_type": "markdown",
   "id": "5aa6cd39-bdbe-42f1-9354-8d6196ba4922",
   "metadata": {
    "tags": []
   },
   "source": [
    "## HDF5"
   ]
  },
  {
   "cell_type": "code",
   "execution_count": 17,
   "id": "4b3c48ae-31ef-4199-bf1f-4233b9513eff",
   "metadata": {},
   "outputs": [],
   "source": [
    "import h5py"
   ]
  },
  {
   "cell_type": "markdown",
   "id": "6346795d-c662-46df-9d8a-b228dd87abe0",
   "metadata": {},
   "source": [
    "Write speed:"
   ]
  },
  {
   "cell_type": "code",
   "execution_count": 18,
   "id": "4b2a4b5f-a663-4377-bf08-37ea32784245",
   "metadata": {},
   "outputs": [
    {
     "name": "stdout",
     "output_type": "stream",
     "text": [
      "27 ms ± 5.95 ms per loop (mean ± std. dev. of 7 runs, 100 loops each)\n"
     ]
    },
    {
     "data": {
      "text/plain": [
       "<TimeitResult : 27 ms ± 5.95 ms per loop (mean ± std. dev. of 7 runs, 100 loops each)>"
      ]
     },
     "execution_count": 18,
     "metadata": {},
     "output_type": "execute_result"
    }
   ],
   "source": [
    "%%timeit -o\n",
    "\n",
    "h5_file = h5py.File('data_array.h5', 'w')\n",
    "h5_file.create_dataset('data_array', data=data_array)\n",
    "h5_file.close()"
   ]
  },
  {
   "cell_type": "code",
   "execution_count": 19,
   "id": "b5009e11-0bc1-46e2-9854-ae38bfd5a2d0",
   "metadata": {},
   "outputs": [],
   "source": [
    "write_speed =  1000 * _.average"
   ]
  },
  {
   "cell_type": "markdown",
   "id": "9186cfb1-9b80-4e17-9410-4c01ab75485d",
   "metadata": {},
   "source": [
    "Read speed:"
   ]
  },
  {
   "cell_type": "code",
   "execution_count": 20,
   "id": "8054418e-6c76-4b32-b40e-60ca8fc95d68",
   "metadata": {},
   "outputs": [
    {
     "name": "stdout",
     "output_type": "stream",
     "text": [
      "3.97 ms ± 264 µs per loop (mean ± std. dev. of 7 runs, 100 loops each)\n"
     ]
    },
    {
     "data": {
      "text/plain": [
       "<TimeitResult : 3.97 ms ± 264 µs per loop (mean ± std. dev. of 7 runs, 100 loops each)>"
      ]
     },
     "execution_count": 20,
     "metadata": {},
     "output_type": "execute_result"
    }
   ],
   "source": [
    "%%timeit -o\n",
    "\n",
    "h5_file = h5py.File('data_array.h5', 'r')\n",
    "data_array_h5 = h5_file['data_array'][()]\n",
    "h5_file.close()"
   ]
  },
  {
   "cell_type": "code",
   "execution_count": 21,
   "id": "3626a02e-b7a4-4049-ba9b-957ad3d46db4",
   "metadata": {},
   "outputs": [],
   "source": [
    "read_speed =  1000 * _.average"
   ]
  },
  {
   "cell_type": "markdown",
   "id": "1a6530db-d311-4d3f-b040-47092697e7ba",
   "metadata": {},
   "source": [
    "Datasets match:"
   ]
  },
  {
   "cell_type": "code",
   "execution_count": 22,
   "id": "498af42a-cd25-4560-9620-2599b2afc19d",
   "metadata": {},
   "outputs": [
    {
     "data": {
      "text/plain": [
       "True"
      ]
     },
     "execution_count": 22,
     "metadata": {},
     "output_type": "execute_result"
    }
   ],
   "source": [
    "h5_file = h5py.File('data_array.h5', 'r')\n",
    "data_array_h5 = h5_file['data_array'][()]\n",
    "h5_file.close()\n",
    "data_array_match = np.all(data_array == data_array_h5)\n",
    "data_array_match"
   ]
  },
  {
   "cell_type": "markdown",
   "id": "cef2f4c2-1857-4609-a68d-16fdb0afa6e3",
   "metadata": {},
   "source": [
    "Dataset size:"
   ]
  },
  {
   "cell_type": "code",
   "execution_count": 23,
   "id": "7e0a4fe3-c4ac-480f-9707-8e53e37548bf",
   "metadata": {},
   "outputs": [],
   "source": [
    "data_array_size = os.path.getsize('data_array.h5') / (1024. * 1024.)"
   ]
  },
  {
   "cell_type": "markdown",
   "id": "3573c512-afd6-4a8c-9efa-a0efbcbaa2df",
   "metadata": {},
   "source": [
    "Add data to comparison list:"
   ]
  },
  {
   "cell_type": "code",
   "execution_count": 24,
   "id": "c8f002f8-cd61-44d2-8e9b-7601547b15b4",
   "metadata": {},
   "outputs": [],
   "source": [
    "dataset_comparison.append(['HDF5', data_array_size, write_speed, read_speed, data_array_match])"
   ]
  },
  {
   "cell_type": "markdown",
   "id": "06ce2cae-1b74-4253-bc8c-efdad081346b",
   "metadata": {
    "tags": []
   },
   "source": [
    "## NetCDF4"
   ]
  },
  {
   "cell_type": "code",
   "execution_count": 25,
   "id": "a0d1bec7-f612-4c31-8177-9269cde6e56c",
   "metadata": {},
   "outputs": [],
   "source": [
    "import xarray as xr"
   ]
  },
  {
   "cell_type": "markdown",
   "id": "8c57dd70-95ba-474d-af17-80d86b70805a",
   "metadata": {},
   "source": [
    "Write speed:"
   ]
  },
  {
   "cell_type": "code",
   "execution_count": 26,
   "id": "e031d440-571b-44d8-a86a-be431e5bf36b",
   "metadata": {},
   "outputs": [
    {
     "name": "stdout",
     "output_type": "stream",
     "text": [
      "28.8 ms ± 7.44 ms per loop (mean ± std. dev. of 7 runs, 10 loops each)\n"
     ]
    },
    {
     "data": {
      "text/plain": [
       "<TimeitResult : 28.8 ms ± 7.44 ms per loop (mean ± std. dev. of 7 runs, 10 loops each)>"
      ]
     },
     "execution_count": 26,
     "metadata": {},
     "output_type": "execute_result"
    }
   ],
   "source": [
    "%timeit -o xr.DataArray(data_array).to_netcdf('data_array.nc', engine='h5netcdf')"
   ]
  },
  {
   "cell_type": "code",
   "execution_count": 27,
   "id": "c077a3a6-6648-43e0-a7b0-68b65721c0aa",
   "metadata": {},
   "outputs": [],
   "source": [
    "write_speed =  1000 * _.average"
   ]
  },
  {
   "cell_type": "markdown",
   "id": "6d5cc701-6f19-4c89-ad90-8ed8c5d39900",
   "metadata": {},
   "source": [
    "Read speed:"
   ]
  },
  {
   "cell_type": "code",
   "execution_count": 28,
   "id": "248d6860-d25f-495e-bae4-af89b9cc8040",
   "metadata": {},
   "outputs": [
    {
     "name": "stdout",
     "output_type": "stream",
     "text": [
      "12.2 ms ± 379 µs per loop (mean ± std. dev. of 7 runs, 100 loops each)\n"
     ]
    },
    {
     "data": {
      "text/plain": [
       "<TimeitResult : 12.2 ms ± 379 µs per loop (mean ± std. dev. of 7 runs, 100 loops each)>"
      ]
     },
     "execution_count": 28,
     "metadata": {},
     "output_type": "execute_result"
    }
   ],
   "source": [
    "%timeit -o data_array_xarray = xr.open_dataarray('data_array.nc', engine='h5netcdf').to_numpy()"
   ]
  },
  {
   "cell_type": "code",
   "execution_count": 29,
   "id": "8e7463ba-9024-4195-b93d-b7c0ade26128",
   "metadata": {},
   "outputs": [],
   "source": [
    "read_speed =  1000 * _.average"
   ]
  },
  {
   "cell_type": "markdown",
   "id": "00feb3ac-fae1-4f55-b404-5454edd12bdb",
   "metadata": {},
   "source": [
    "Datasets match:"
   ]
  },
  {
   "cell_type": "code",
   "execution_count": 30,
   "id": "491bfef6-ee9e-43be-ac9e-cb26fac1d2c4",
   "metadata": {},
   "outputs": [
    {
     "data": {
      "text/plain": [
       "True"
      ]
     },
     "execution_count": 30,
     "metadata": {},
     "output_type": "execute_result"
    }
   ],
   "source": [
    "data_array_xarray = xr.open_dataarray('data_array.nc', engine='h5netcdf').to_numpy()\n",
    "data_array_match = np.all(data_array == data_array_xarray)\n",
    "data_array_match"
   ]
  },
  {
   "cell_type": "markdown",
   "id": "39492555-912e-49b6-8173-ec311271c43e",
   "metadata": {},
   "source": [
    "Dataset size:"
   ]
  },
  {
   "cell_type": "code",
   "execution_count": 31,
   "id": "c171111e-3e01-4eaf-b490-62442c54c617",
   "metadata": {},
   "outputs": [],
   "source": [
    "data_array_size = os.path.getsize('data_array.nc') / (1024. * 1024.)"
   ]
  },
  {
   "cell_type": "markdown",
   "id": "6d2747d8-be77-4083-8815-a42841cc61e5",
   "metadata": {},
   "source": [
    "Add data to comparison list:"
   ]
  },
  {
   "cell_type": "code",
   "execution_count": 32,
   "id": "1e575e52-348e-42d7-bb7c-482ab7b29421",
   "metadata": {},
   "outputs": [],
   "source": [
    "dataset_comparison.append(['NetCDF4', data_array_size, write_speed, read_speed, data_array_match])"
   ]
  },
  {
   "cell_type": "markdown",
   "id": "3a57990a-ba56-42a9-b7ea-0050652320e6",
   "metadata": {},
   "source": [
    "# Compare file formats"
   ]
  },
  {
   "cell_type": "code",
   "execution_count": 33,
   "id": "940ef1ae-9ef7-47c7-86f8-d4db90c7d98d",
   "metadata": {},
   "outputs": [
    {
     "data": {
      "text/plain": [
       "[['CSV', 23.84185791015625, 690.147840143514, 294.35324600074506, True],\n",
       " ['npy', 7.6295166015625, 13.79394823858872, 2.7185198442748515, True],\n",
       " ['HDF5', 7.63134765625, 27.043306650001405, 3.9708429342863387, True],\n",
       " ['NetCDF4', 7.637290954589844, 28.81735994295533, 12.23481194998645, True]]"
      ]
     },
     "execution_count": 33,
     "metadata": {},
     "output_type": "execute_result"
    }
   ],
   "source": [
    "dataset_comparison"
   ]
  },
  {
   "cell_type": "code",
   "execution_count": 34,
   "id": "c6ca3bf0-35d4-4588-971d-e1713ba7a426",
   "metadata": {},
   "outputs": [],
   "source": [
    "dataset_comparison_df = pd.DataFrame(columns=['File format', 'File size [MB]', 'Write time [ms]', 'Read time [ms]', 'Data matches exactly'], data=dataset_comparison)"
   ]
  },
  {
   "cell_type": "code",
   "execution_count": 35,
   "id": "56953dde-8cfe-41cf-930b-26e33ff71472",
   "metadata": {},
   "outputs": [
    {
     "data": {
      "text/html": [
       "<div>\n",
       "<style scoped>\n",
       "    .dataframe tbody tr th:only-of-type {\n",
       "        vertical-align: middle;\n",
       "    }\n",
       "\n",
       "    .dataframe tbody tr th {\n",
       "        vertical-align: top;\n",
       "    }\n",
       "\n",
       "    .dataframe thead th {\n",
       "        text-align: right;\n",
       "    }\n",
       "</style>\n",
       "<table border=\"1\" class=\"dataframe\">\n",
       "  <thead>\n",
       "    <tr style=\"text-align: right;\">\n",
       "      <th></th>\n",
       "      <th>File format</th>\n",
       "      <th>File size [MB]</th>\n",
       "      <th>Write time [ms]</th>\n",
       "      <th>Read time [ms]</th>\n",
       "      <th>Data matches exactly</th>\n",
       "    </tr>\n",
       "  </thead>\n",
       "  <tbody>\n",
       "    <tr>\n",
       "      <th>0</th>\n",
       "      <td>CSV</td>\n",
       "      <td>23.841858</td>\n",
       "      <td>690.147840</td>\n",
       "      <td>294.353246</td>\n",
       "      <td>True</td>\n",
       "    </tr>\n",
       "    <tr>\n",
       "      <th>1</th>\n",
       "      <td>npy</td>\n",
       "      <td>7.629517</td>\n",
       "      <td>13.793948</td>\n",
       "      <td>2.718520</td>\n",
       "      <td>True</td>\n",
       "    </tr>\n",
       "    <tr>\n",
       "      <th>2</th>\n",
       "      <td>HDF5</td>\n",
       "      <td>7.631348</td>\n",
       "      <td>27.043307</td>\n",
       "      <td>3.970843</td>\n",
       "      <td>True</td>\n",
       "    </tr>\n",
       "    <tr>\n",
       "      <th>3</th>\n",
       "      <td>NetCDF4</td>\n",
       "      <td>7.637291</td>\n",
       "      <td>28.817360</td>\n",
       "      <td>12.234812</td>\n",
       "      <td>True</td>\n",
       "    </tr>\n",
       "  </tbody>\n",
       "</table>\n",
       "</div>"
      ],
      "text/plain": [
       "  File format  File size [MB]  Write time [ms]  Read time [ms]  \\\n",
       "0         CSV       23.841858       690.147840      294.353246   \n",
       "1         npy        7.629517        13.793948        2.718520   \n",
       "2        HDF5        7.631348        27.043307        3.970843   \n",
       "3     NetCDF4        7.637291        28.817360       12.234812   \n",
       "\n",
       "   Data matches exactly  \n",
       "0                  True  \n",
       "1                  True  \n",
       "2                  True  \n",
       "3                  True  "
      ]
     },
     "execution_count": 35,
     "metadata": {},
     "output_type": "execute_result"
    }
   ],
   "source": [
    "dataset_comparison_df"
   ]
  },
  {
   "cell_type": "code",
   "execution_count": 36,
   "id": "dfb13de3-9336-4e30-b876-a6b147fe4e67",
   "metadata": {},
   "outputs": [],
   "source": [
    "dataset_comparison_df.to_csv('../content/format_comparison_array.csv', float_format='%.3g', index=False)"
   ]
  }
 ],
 "metadata": {
  "kernelspec": {
   "display_name": "Python 3 (ipykernel)",
   "language": "python",
   "name": "python3"
  },
  "language_info": {
   "codemirror_mode": {
    "name": "ipython",
    "version": 3
   },
   "file_extension": ".py",
   "mimetype": "text/x-python",
   "name": "python",
   "nbconvert_exporter": "python",
   "pygments_lexer": "ipython3",
   "version": "3.10.6"
  }
 },
 "nbformat": 4,
 "nbformat_minor": 5
}
