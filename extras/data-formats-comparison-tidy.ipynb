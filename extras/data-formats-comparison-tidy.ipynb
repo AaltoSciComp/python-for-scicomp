{
 "cells": [
  {
   "cell_type": "markdown",
   "id": "3e3e7089-df53-45d4-9771-6953bfe75b1f",
   "metadata": {},
   "source": [
    "# Compare file formats"
   ]
  },
  {
   "cell_type": "code",
   "execution_count": 1,
   "id": "c798c8b0-fb28-4625-9bfb-8d07aac1f584",
   "metadata": {},
   "outputs": [
    {
     "name": "stdout",
     "output_type": "stream",
     "text": [
      "   string           timestamp  integer     float\n",
      "0  carrot 2013-01-01 00:00:00        8  0.768161\n",
      "1  carrot 2013-01-01 00:00:01        1  0.811633\n",
      "2   apple 2013-01-01 00:00:02        9  0.062442\n",
      "3  carrot 2013-01-01 00:00:03        9  0.432378\n",
      "4   apple 2013-01-01 00:00:04        8  0.452573\n"
     ]
    }
   ],
   "source": [
    "import os\n",
    "import pandas as pd\n",
    "import numpy as np\n",
    "\n",
    "n_rows = 100000\n",
    "\n",
    "dataset = pd.DataFrame(\n",
    "    data={\n",
    "    'string': np.random.choice(('apple', 'banana', 'carrot'), size=n_rows),\n",
    "    'timestamp': pd.date_range(\"20130101\", periods=n_rows, freq=\"s\"),\n",
    "    'integer': np.random.choice(range(0,10), size=n_rows),\n",
    "    'float': np.random.uniform(size=n_rows),\n",
    "    },\n",
    ")\n",
    "\n",
    "print(dataset.head())"
   ]
  },
  {
   "cell_type": "code",
   "execution_count": 2,
   "id": "1444a908-a345-481e-8a6b-0b8f008a3eab",
   "metadata": {},
   "outputs": [],
   "source": [
    "dataset_comparison = []"
   ]
  },
  {
   "cell_type": "markdown",
   "id": "ed2a02ad-6394-4110-8e9d-93c69e0173bb",
   "metadata": {
    "tags": []
   },
   "source": [
    "## CSV"
   ]
  },
  {
   "cell_type": "markdown",
   "id": "2cf7a965-e071-4736-b65c-86b725ad76d8",
   "metadata": {},
   "source": [
    "Write speed:"
   ]
  },
  {
   "cell_type": "code",
   "execution_count": 3,
   "id": "e031d440-571b-44d8-a86a-be431e5bf36b",
   "metadata": {},
   "outputs": [
    {
     "name": "stdout",
     "output_type": "stream",
     "text": [
      "303 ms ± 15.4 ms per loop (mean ± std. dev. of 7 runs, 1 loop each)\n"
     ]
    },
    {
     "data": {
      "text/plain": [
       "<TimeitResult : 303 ms ± 15.4 ms per loop (mean ± std. dev. of 7 runs, 1 loop each)>"
      ]
     },
     "execution_count": 3,
     "metadata": {},
     "output_type": "execute_result"
    }
   ],
   "source": [
    "%timeit -o dataset.to_csv('dataset.csv', index=False)"
   ]
  },
  {
   "cell_type": "code",
   "execution_count": 4,
   "id": "c077a3a6-6648-43e0-a7b0-68b65721c0aa",
   "metadata": {},
   "outputs": [],
   "source": [
    "write_speed = _.average"
   ]
  },
  {
   "cell_type": "markdown",
   "id": "6d5cc701-6f19-4c89-ad90-8ed8c5d39900",
   "metadata": {},
   "source": [
    "Read speed:"
   ]
  },
  {
   "cell_type": "code",
   "execution_count": 5,
   "id": "248d6860-d25f-495e-bae4-af89b9cc8040",
   "metadata": {},
   "outputs": [
    {
     "name": "stdout",
     "output_type": "stream",
     "text": [
      "68.2 ms ± 4.53 ms per loop (mean ± std. dev. of 7 runs, 10 loops each)\n"
     ]
    },
    {
     "data": {
      "text/plain": [
       "<TimeitResult : 68.2 ms ± 4.53 ms per loop (mean ± std. dev. of 7 runs, 10 loops each)>"
      ]
     },
     "execution_count": 5,
     "metadata": {},
     "output_type": "execute_result"
    }
   ],
   "source": [
    "%timeit -o dataset_csv = pd.read_csv('dataset.csv')"
   ]
  },
  {
   "cell_type": "code",
   "execution_count": 6,
   "id": "8e7463ba-9024-4195-b93d-b7c0ade26128",
   "metadata": {},
   "outputs": [],
   "source": [
    "read_speed = _.average"
   ]
  },
  {
   "cell_type": "markdown",
   "id": "00feb3ac-fae1-4f55-b404-5454edd12bdb",
   "metadata": {},
   "source": [
    "Datasets match:"
   ]
  },
  {
   "cell_type": "code",
   "execution_count": 7,
   "id": "491bfef6-ee9e-43be-ac9e-cb26fac1d2c4",
   "metadata": {},
   "outputs": [
    {
     "data": {
      "text/plain": [
       "False"
      ]
     },
     "execution_count": 7,
     "metadata": {},
     "output_type": "execute_result"
    }
   ],
   "source": [
    "dataset_csv = pd.read_csv('dataset.csv')\n",
    "datasets_match = len(dataset.compare(dataset_csv)) == 0\n",
    "datasets_match"
   ]
  },
  {
   "cell_type": "markdown",
   "id": "39492555-912e-49b6-8173-ec311271c43e",
   "metadata": {},
   "source": [
    "Dataset size:"
   ]
  },
  {
   "cell_type": "code",
   "execution_count": 8,
   "id": "c171111e-3e01-4eaf-b490-62442c54c617",
   "metadata": {},
   "outputs": [],
   "source": [
    "dataset_size = os.path.getsize('dataset.csv') / (1024. * 1024.)"
   ]
  },
  {
   "cell_type": "markdown",
   "id": "6d2747d8-be77-4083-8815-a42841cc61e5",
   "metadata": {},
   "source": [
    "Add data to comparison list:"
   ]
  },
  {
   "cell_type": "code",
   "execution_count": 9,
   "id": "1e575e52-348e-42d7-bb7c-482ab7b29421",
   "metadata": {},
   "outputs": [],
   "source": [
    "dataset_comparison.append(['CSV', dataset_size, write_speed, read_speed, datasets_match])"
   ]
  },
  {
   "cell_type": "markdown",
   "id": "dc1b97d2-1e15-45ae-8e88-2c2f520c255e",
   "metadata": {},
   "source": [
    "## Feather"
   ]
  },
  {
   "cell_type": "markdown",
   "id": "a41eb81e-3d08-4a19-a461-f6e3e0602dc9",
   "metadata": {},
   "source": [
    "Write speed:"
   ]
  },
  {
   "cell_type": "code",
   "execution_count": 10,
   "id": "265908bd-6b98-4beb-a462-c2ecad6614e8",
   "metadata": {},
   "outputs": [
    {
     "name": "stdout",
     "output_type": "stream",
     "text": [
      "12.5 ms ± 1.26 ms per loop (mean ± std. dev. of 7 runs, 100 loops each)\n"
     ]
    },
    {
     "data": {
      "text/plain": [
       "<TimeitResult : 12.5 ms ± 1.26 ms per loop (mean ± std. dev. of 7 runs, 100 loops each)>"
      ]
     },
     "execution_count": 10,
     "metadata": {},
     "output_type": "execute_result"
    }
   ],
   "source": [
    "%timeit -o dataset.to_feather('dataset.feather')"
   ]
  },
  {
   "cell_type": "code",
   "execution_count": 11,
   "id": "e9818a82-e195-428d-ac94-a946de38fb87",
   "metadata": {},
   "outputs": [],
   "source": [
    "write_speed = _.average"
   ]
  },
  {
   "cell_type": "markdown",
   "id": "ae4696e3-aaa9-4d29-9315-6aa28431e6be",
   "metadata": {},
   "source": [
    "Read speed:"
   ]
  },
  {
   "cell_type": "code",
   "execution_count": 12,
   "id": "2af36843-566e-4243-ac15-3ff3100527c7",
   "metadata": {},
   "outputs": [
    {
     "name": "stdout",
     "output_type": "stream",
     "text": [
      "5.42 ms ± 480 µs per loop (mean ± std. dev. of 7 runs, 100 loops each)\n"
     ]
    },
    {
     "data": {
      "text/plain": [
       "<TimeitResult : 5.42 ms ± 480 µs per loop (mean ± std. dev. of 7 runs, 100 loops each)>"
      ]
     },
     "execution_count": 12,
     "metadata": {},
     "output_type": "execute_result"
    }
   ],
   "source": [
    "%timeit -o dataset_feather = pd.read_feather('dataset.feather')"
   ]
  },
  {
   "cell_type": "code",
   "execution_count": 13,
   "id": "5f28f56e-7dac-4586-9d39-43b963075623",
   "metadata": {},
   "outputs": [],
   "source": [
    "read_speed = _.average"
   ]
  },
  {
   "cell_type": "markdown",
   "id": "245e91d6-e9c3-4009-ab4e-6dc6c72ab395",
   "metadata": {},
   "source": [
    "Datasets match:"
   ]
  },
  {
   "cell_type": "code",
   "execution_count": 14,
   "id": "8955964d-92e0-466e-82fc-fed22b352c2f",
   "metadata": {},
   "outputs": [
    {
     "data": {
      "text/plain": [
       "True"
      ]
     },
     "execution_count": 14,
     "metadata": {},
     "output_type": "execute_result"
    }
   ],
   "source": [
    "dataset_feather = pd.read_feather('dataset.feather')\n",
    "datasets_match = len(dataset.compare(dataset_feather)) == 0\n",
    "datasets_match"
   ]
  },
  {
   "cell_type": "markdown",
   "id": "9228c920-ca92-4b7d-9dbf-8e9e6db6e85f",
   "metadata": {},
   "source": [
    "Dataset size:"
   ]
  },
  {
   "cell_type": "code",
   "execution_count": 15,
   "id": "6934a2e4-045a-4fc1-87cd-d0a8ac9dfbe8",
   "metadata": {},
   "outputs": [],
   "source": [
    "dataset_size = os.path.getsize('dataset.feather') / (1024. * 1024.)"
   ]
  },
  {
   "cell_type": "markdown",
   "id": "80b6604c-5dac-45b1-a884-88b410a9ed93",
   "metadata": {},
   "source": [
    "Add data to comparison list:"
   ]
  },
  {
   "cell_type": "code",
   "execution_count": 16,
   "id": "b957d74c-d7fa-4a0d-a846-a81acbb814d4",
   "metadata": {},
   "outputs": [],
   "source": [
    "dataset_comparison.append(['Feather', dataset_size, write_speed, read_speed, datasets_match])"
   ]
  },
  {
   "cell_type": "markdown",
   "id": "6c34ca89-7632-41c7-8486-fd0027fbe8bb",
   "metadata": {
    "tags": []
   },
   "source": [
    "## Parquet"
   ]
  },
  {
   "cell_type": "markdown",
   "id": "a5653ba4-d337-452d-ae43-7aab4e42265e",
   "metadata": {},
   "source": [
    "Write speed:"
   ]
  },
  {
   "cell_type": "code",
   "execution_count": 17,
   "id": "6f1c7cb3-d19b-4fb3-bb69-9dd05f5479a0",
   "metadata": {},
   "outputs": [
    {
     "name": "stdout",
     "output_type": "stream",
     "text": [
      "28.9 ms ± 5.16 ms per loop (mean ± std. dev. of 7 runs, 10 loops each)\n"
     ]
    },
    {
     "data": {
      "text/plain": [
       "<TimeitResult : 28.9 ms ± 5.16 ms per loop (mean ± std. dev. of 7 runs, 10 loops each)>"
      ]
     },
     "execution_count": 17,
     "metadata": {},
     "output_type": "execute_result"
    }
   ],
   "source": [
    "%timeit -o dataset.to_parquet('dataset.parquet')"
   ]
  },
  {
   "cell_type": "code",
   "execution_count": 18,
   "id": "a60a31ce-c5d7-4030-8e45-9c2fdf0630da",
   "metadata": {},
   "outputs": [],
   "source": [
    "write_speed = _.average"
   ]
  },
  {
   "cell_type": "markdown",
   "id": "4894b7f2-f8ae-4b9c-ae89-712efdefe145",
   "metadata": {},
   "source": [
    "Read speed:"
   ]
  },
  {
   "cell_type": "code",
   "execution_count": 19,
   "id": "87efd5aa-a742-43e2-b655-1661de93a7a0",
   "metadata": {},
   "outputs": [
    {
     "name": "stdout",
     "output_type": "stream",
     "text": [
      "7.21 ms ± 355 µs per loop (mean ± std. dev. of 7 runs, 100 loops each)\n"
     ]
    },
    {
     "data": {
      "text/plain": [
       "<TimeitResult : 7.21 ms ± 355 µs per loop (mean ± std. dev. of 7 runs, 100 loops each)>"
      ]
     },
     "execution_count": 19,
     "metadata": {},
     "output_type": "execute_result"
    }
   ],
   "source": [
    "%timeit -o dataset_parquet = pd.read_parquet('dataset.parquet')"
   ]
  },
  {
   "cell_type": "code",
   "execution_count": 20,
   "id": "29698117-3f31-4909-a3c2-004806b6bf31",
   "metadata": {},
   "outputs": [],
   "source": [
    "read_speed = _.average"
   ]
  },
  {
   "cell_type": "markdown",
   "id": "c5c26dda-89cc-4970-9cd1-530021ef2148",
   "metadata": {},
   "source": [
    "Datasets match:"
   ]
  },
  {
   "cell_type": "code",
   "execution_count": 21,
   "id": "ff22c8ee-66c2-46c4-a2d4-ed9a28ee0ebe",
   "metadata": {},
   "outputs": [
    {
     "data": {
      "text/plain": [
       "True"
      ]
     },
     "execution_count": 21,
     "metadata": {},
     "output_type": "execute_result"
    }
   ],
   "source": [
    "dataset_parquet = pd.read_parquet('dataset.parquet')\n",
    "datasets_match = len(dataset.compare(dataset_parquet)) == 0\n",
    "datasets_match"
   ]
  },
  {
   "cell_type": "markdown",
   "id": "b83a2452-9d78-4411-b161-0686dfe15761",
   "metadata": {},
   "source": [
    "Dataset size:"
   ]
  },
  {
   "cell_type": "code",
   "execution_count": 22,
   "id": "12098237-47d3-42e5-b22f-7ea8531fff59",
   "metadata": {},
   "outputs": [],
   "source": [
    "dataset_size = os.path.getsize('dataset.parquet') / (1024. * 1024.)"
   ]
  },
  {
   "cell_type": "markdown",
   "id": "0b434034-eef0-4ade-930f-fb9c71111ff0",
   "metadata": {},
   "source": [
    "Add data to comparison list:"
   ]
  },
  {
   "cell_type": "code",
   "execution_count": 23,
   "id": "1596ee5e-0838-47f7-886b-8a3501b76776",
   "metadata": {},
   "outputs": [],
   "source": [
    "dataset_comparison.append(['Parquet', dataset_size, write_speed, read_speed, datasets_match])"
   ]
  },
  {
   "cell_type": "markdown",
   "id": "825f3ac3-1c7f-4ce9-93e2-4a49f3d5f603",
   "metadata": {
    "tags": []
   },
   "source": [
    "## HDF5"
   ]
  },
  {
   "cell_type": "markdown",
   "id": "74347527-87d4-46b3-b831-9c88865569df",
   "metadata": {},
   "source": [
    "Write speed:"
   ]
  },
  {
   "cell_type": "code",
   "execution_count": 24,
   "id": "1ad1febc-2290-4ae4-9956-c7cc0f73a3a0",
   "metadata": {},
   "outputs": [
    {
     "name": "stdout",
     "output_type": "stream",
     "text": [
      "30.6 ms ± 2.17 ms per loop (mean ± std. dev. of 7 runs, 10 loops each)\n"
     ]
    },
    {
     "data": {
      "text/plain": [
       "<TimeitResult : 30.6 ms ± 2.17 ms per loop (mean ± std. dev. of 7 runs, 10 loops each)>"
      ]
     },
     "execution_count": 24,
     "metadata": {},
     "output_type": "execute_result"
    }
   ],
   "source": [
    "%timeit -o dataset.to_hdf('dataset.h5', 'dataset', mode='w')"
   ]
  },
  {
   "cell_type": "code",
   "execution_count": 25,
   "id": "641fbf79-837d-414f-9eb4-e6002a1a422d",
   "metadata": {},
   "outputs": [],
   "source": [
    "write_speed = _.average"
   ]
  },
  {
   "cell_type": "markdown",
   "id": "28d69a6d-92c9-4220-817d-00c2f9b40d0f",
   "metadata": {},
   "source": [
    "Read speed:"
   ]
  },
  {
   "cell_type": "code",
   "execution_count": 26,
   "id": "bcc27b81-90f3-4158-bce7-59fbda86dd5b",
   "metadata": {},
   "outputs": [
    {
     "name": "stdout",
     "output_type": "stream",
     "text": [
      "21 ms ± 1.76 ms per loop (mean ± std. dev. of 7 runs, 10 loops each)\n"
     ]
    },
    {
     "data": {
      "text/plain": [
       "<TimeitResult : 21 ms ± 1.76 ms per loop (mean ± std. dev. of 7 runs, 10 loops each)>"
      ]
     },
     "execution_count": 26,
     "metadata": {},
     "output_type": "execute_result"
    }
   ],
   "source": [
    "%timeit -o dataset_hdf5 = pd.read_hdf('dataset.h5')"
   ]
  },
  {
   "cell_type": "code",
   "execution_count": 27,
   "id": "51fc6a8a-7da5-4b2d-bf0f-b02ca4ff28aa",
   "metadata": {},
   "outputs": [],
   "source": [
    "read_speed = _.average"
   ]
  },
  {
   "cell_type": "markdown",
   "id": "e18c6f5c-cd7e-482e-934d-2995c3604abc",
   "metadata": {},
   "source": [
    "Datasets match:"
   ]
  },
  {
   "cell_type": "code",
   "execution_count": 28,
   "id": "fc1f47ae-0541-480f-99fc-eb1314376a0a",
   "metadata": {},
   "outputs": [
    {
     "data": {
      "text/plain": [
       "True"
      ]
     },
     "execution_count": 28,
     "metadata": {},
     "output_type": "execute_result"
    }
   ],
   "source": [
    "dataset_hdf5 = pd.read_hdf('dataset.h5')\n",
    "datasets_match = len(dataset.compare(dataset_hdf5)) == 0\n",
    "datasets_match"
   ]
  },
  {
   "cell_type": "markdown",
   "id": "f436577a-7f8d-4082-aace-c88743a09014",
   "metadata": {},
   "source": [
    "Dataset size:"
   ]
  },
  {
   "cell_type": "code",
   "execution_count": 29,
   "id": "a6e771c3-ecd5-4657-9859-df9a0406fa55",
   "metadata": {},
   "outputs": [],
   "source": [
    "dataset_size = os.path.getsize('dataset.h5') / (1024. * 1024.)"
   ]
  },
  {
   "cell_type": "markdown",
   "id": "16c79936-f201-48d5-adfa-94a9e066469b",
   "metadata": {},
   "source": [
    "Add data to comparison list:"
   ]
  },
  {
   "cell_type": "code",
   "execution_count": 30,
   "id": "bbbb7f08-e598-42f5-b7f9-e1cdfdd49be8",
   "metadata": {},
   "outputs": [],
   "source": [
    "dataset_comparison.append(['HDF5', dataset_size, write_speed, read_speed, datasets_match])"
   ]
  },
  {
   "cell_type": "markdown",
   "id": "f2926562-9d2e-4980-9ecb-d4772188deea",
   "metadata": {
    "tags": []
   },
   "source": [
    "## NetCDF"
   ]
  },
  {
   "cell_type": "markdown",
   "id": "65b1cea4-3bfd-4b84-bed2-3b8bcad59db1",
   "metadata": {},
   "source": [
    "Write speed:"
   ]
  },
  {
   "cell_type": "code",
   "execution_count": 31,
   "id": "fba0a1ac-4ffe-42dd-b220-4e3041d3543e",
   "metadata": {},
   "outputs": [],
   "source": [
    "dataset_xarray = dataset.to_xarray()"
   ]
  },
  {
   "cell_type": "code",
   "execution_count": 32,
   "id": "907b993c-9acc-4ab5-a91b-ec7a9ea920b4",
   "metadata": {},
   "outputs": [
    {
     "name": "stdout",
     "output_type": "stream",
     "text": [
      "73.4 ms ± 1.46 ms per loop (mean ± std. dev. of 7 runs, 10 loops each)\n"
     ]
    },
    {
     "data": {
      "text/plain": [
       "<TimeitResult : 73.4 ms ± 1.46 ms per loop (mean ± std. dev. of 7 runs, 10 loops each)>"
      ]
     },
     "execution_count": 32,
     "metadata": {},
     "output_type": "execute_result"
    }
   ],
   "source": [
    "%timeit -o dataset_xarray.to_netcdf('dataset.nc', engine='h5netcdf')"
   ]
  },
  {
   "cell_type": "code",
   "execution_count": 33,
   "id": "b3a3d4e5-f693-460f-b348-cec4c0d9db5f",
   "metadata": {},
   "outputs": [],
   "source": [
    "write_speed = _.average"
   ]
  },
  {
   "cell_type": "markdown",
   "id": "81e24a88-2d97-4a31-a6db-ec8d58c40d48",
   "metadata": {},
   "source": [
    "Read speed:"
   ]
  },
  {
   "cell_type": "code",
   "execution_count": 34,
   "id": "ceb048f6-c622-4dfa-82a1-9b9e612eec91",
   "metadata": {},
   "outputs": [],
   "source": [
    "import xarray as xr"
   ]
  },
  {
   "cell_type": "code",
   "execution_count": 35,
   "id": "8f0a0932-0472-4889-b388-d13cd9ad88bb",
   "metadata": {},
   "outputs": [
    {
     "name": "stdout",
     "output_type": "stream",
     "text": [
      "62.2 ms ± 2.31 ms per loop (mean ± std. dev. of 7 runs, 10 loops each)\n"
     ]
    },
    {
     "data": {
      "text/plain": [
       "<TimeitResult : 62.2 ms ± 2.31 ms per loop (mean ± std. dev. of 7 runs, 10 loops each)>"
      ]
     },
     "execution_count": 35,
     "metadata": {},
     "output_type": "execute_result"
    }
   ],
   "source": [
    "%timeit -o dataset_xarray = xr.open_dataset('dataset.nc', engine='h5netcdf')"
   ]
  },
  {
   "cell_type": "code",
   "execution_count": 36,
   "id": "bee3cc52-66d2-4932-8bef-1e6f3ba61f8e",
   "metadata": {},
   "outputs": [],
   "source": [
    "read_speed = _.average"
   ]
  },
  {
   "cell_type": "markdown",
   "id": "e0285ddf-4b97-436b-9a06-b28d64129217",
   "metadata": {},
   "source": [
    "Datasets match:"
   ]
  },
  {
   "cell_type": "code",
   "execution_count": 37,
   "id": "68075b4d-c5a6-487f-a0f5-3299cbec1114",
   "metadata": {},
   "outputs": [
    {
     "data": {
      "text/plain": [
       "True"
      ]
     },
     "execution_count": 37,
     "metadata": {},
     "output_type": "execute_result"
    }
   ],
   "source": [
    "dataset_xarray = xr.open_dataset('dataset.nc', engine='h5netcdf').to_pandas()\n",
    "datasets_match = len(dataset.compare(dataset_xarray[dataset.columns])) == 0\n",
    "datasets_match"
   ]
  },
  {
   "cell_type": "markdown",
   "id": "79d5ab0f-a04d-4840-9c3b-88c58231a0f5",
   "metadata": {},
   "source": [
    "Dataset size:"
   ]
  },
  {
   "cell_type": "code",
   "execution_count": 38,
   "id": "977e873f-7291-4c80-b066-5c9d0f95fc5a",
   "metadata": {},
   "outputs": [],
   "source": [
    "dataset_size = os.path.getsize('dataset.nc') / (1024. * 1024.)"
   ]
  },
  {
   "cell_type": "markdown",
   "id": "4b612f85-368c-4103-bc21-187c4e4993a7",
   "metadata": {},
   "source": [
    "Add data to comparison list:"
   ]
  },
  {
   "cell_type": "code",
   "execution_count": 39,
   "id": "d6be9dd7-072e-4ed5-8d0e-3837eca510dc",
   "metadata": {},
   "outputs": [],
   "source": [
    "dataset_comparison.append(['NetCDF4', dataset_size, write_speed, read_speed, datasets_match])"
   ]
  },
  {
   "cell_type": "markdown",
   "id": "3a57990a-ba56-42a9-b7ea-0050652320e6",
   "metadata": {},
   "source": [
    "# Compare file formats"
   ]
  },
  {
   "cell_type": "code",
   "execution_count": 40,
   "id": "940ef1ae-9ef7-47c7-86f8-d4db90c7d98d",
   "metadata": {},
   "outputs": [
    {
     "data": {
      "text/plain": [
       "[['CSV', 4.571311950683594, 0.30337745443102904, 0.06818949097131345, False],\n",
       " ['Feather',\n",
       "  2.2020511627197266,\n",
       "  0.01253541589287384,\n",
       "  0.005417117229995451,\n",
       "  True],\n",
       " ['Parquet',\n",
       "  1.820967674255371,\n",
       "  0.028883814171422273,\n",
       "  0.00721051509429734,\n",
       "  True],\n",
       " ['HDF5',\n",
       "  4.8912811279296875,\n",
       "  0.030645701299779053,\n",
       "  0.021023696743109863,\n",
       "  True],\n",
       " ['NetCDF4', 6.89794921875, 0.07342979660004079, 0.06223120065707398, True]]"
      ]
     },
     "execution_count": 40,
     "metadata": {},
     "output_type": "execute_result"
    }
   ],
   "source": [
    "dataset_comparison"
   ]
  },
  {
   "cell_type": "code",
   "execution_count": 41,
   "id": "c6ca3bf0-35d4-4588-971d-e1713ba7a426",
   "metadata": {},
   "outputs": [],
   "source": [
    "dataset_comparison_df = pd.DataFrame(columns=['File format', 'File size [MB]', 'Write time [ms]', 'Read time [ms]', 'Data matches exactly'], data=dataset_comparison)"
   ]
  },
  {
   "cell_type": "code",
   "execution_count": 42,
   "id": "56953dde-8cfe-41cf-930b-26e33ff71472",
   "metadata": {},
   "outputs": [
    {
     "data": {
      "text/html": [
       "<div>\n",
       "<style scoped>\n",
       "    .dataframe tbody tr th:only-of-type {\n",
       "        vertical-align: middle;\n",
       "    }\n",
       "\n",
       "    .dataframe tbody tr th {\n",
       "        vertical-align: top;\n",
       "    }\n",
       "\n",
       "    .dataframe thead th {\n",
       "        text-align: right;\n",
       "    }\n",
       "</style>\n",
       "<table border=\"1\" class=\"dataframe\">\n",
       "  <thead>\n",
       "    <tr style=\"text-align: right;\">\n",
       "      <th></th>\n",
       "      <th>File format</th>\n",
       "      <th>File size [MB]</th>\n",
       "      <th>Write time [ms]</th>\n",
       "      <th>Read time [ms]</th>\n",
       "      <th>Data matches exactly</th>\n",
       "    </tr>\n",
       "  </thead>\n",
       "  <tbody>\n",
       "    <tr>\n",
       "      <th>0</th>\n",
       "      <td>CSV</td>\n",
       "      <td>4.571312</td>\n",
       "      <td>0.303377</td>\n",
       "      <td>0.068189</td>\n",
       "      <td>False</td>\n",
       "    </tr>\n",
       "    <tr>\n",
       "      <th>1</th>\n",
       "      <td>Feather</td>\n",
       "      <td>2.202051</td>\n",
       "      <td>0.012535</td>\n",
       "      <td>0.005417</td>\n",
       "      <td>True</td>\n",
       "    </tr>\n",
       "    <tr>\n",
       "      <th>2</th>\n",
       "      <td>Parquet</td>\n",
       "      <td>1.820968</td>\n",
       "      <td>0.028884</td>\n",
       "      <td>0.007211</td>\n",
       "      <td>True</td>\n",
       "    </tr>\n",
       "    <tr>\n",
       "      <th>3</th>\n",
       "      <td>HDF5</td>\n",
       "      <td>4.891281</td>\n",
       "      <td>0.030646</td>\n",
       "      <td>0.021024</td>\n",
       "      <td>True</td>\n",
       "    </tr>\n",
       "    <tr>\n",
       "      <th>4</th>\n",
       "      <td>NetCDF4</td>\n",
       "      <td>6.897949</td>\n",
       "      <td>0.073430</td>\n",
       "      <td>0.062231</td>\n",
       "      <td>True</td>\n",
       "    </tr>\n",
       "  </tbody>\n",
       "</table>\n",
       "</div>"
      ],
      "text/plain": [
       "  File format  File size [MB]  Write time [ms]  Read time [ms]  \\\n",
       "0         CSV        4.571312         0.303377        0.068189   \n",
       "1     Feather        2.202051         0.012535        0.005417   \n",
       "2     Parquet        1.820968         0.028884        0.007211   \n",
       "3        HDF5        4.891281         0.030646        0.021024   \n",
       "4     NetCDF4        6.897949         0.073430        0.062231   \n",
       "\n",
       "   Data matches exactly  \n",
       "0                 False  \n",
       "1                  True  \n",
       "2                  True  \n",
       "3                  True  \n",
       "4                  True  "
      ]
     },
     "execution_count": 42,
     "metadata": {},
     "output_type": "execute_result"
    }
   ],
   "source": [
    "dataset_comparison_df"
   ]
  }
 ],
 "metadata": {
  "kernelspec": {
   "display_name": "Python 3 (ipykernel)",
   "language": "python",
   "name": "python3"
  },
  "language_info": {
   "codemirror_mode": {
    "name": "ipython",
    "version": 3
   },
   "file_extension": ".py",
   "mimetype": "text/x-python",
   "name": "python",
   "nbconvert_exporter": "python",
   "pygments_lexer": "ipython3",
   "version": "3.10.6"
  }
 },
 "nbformat": 4,
 "nbformat_minor": 5
}
